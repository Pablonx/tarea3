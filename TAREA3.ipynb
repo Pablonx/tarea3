{
 "cells": [
  {
   "cell_type": "code",
   "execution_count": 40,
   "id": "090b77d5",
   "metadata": {},
   "outputs": [],
   "source": [
    "from numpy import*\n",
    "import numpy as np"
   ]
  },
  {
   "cell_type": "code",
   "execution_count": 56,
   "id": "41189a37",
   "metadata": {},
   "outputs": [],
   "source": [
    "def calcular_distancia(punto1,punto2):\n",
    "    x1=punto1[0]\n",
    "    y1=punto1[1]\n",
    "    x2=punto2[0]\n",
    "    y2=punto2[1]\n",
    "    distancia=((x2-x1)**2+(y2-y1)**2)**(1/2)\n",
    "    return distancia"
   ]
  },
  {
   "cell_type": "code",
   "execution_count": 57,
   "id": "91c6aae2",
   "metadata": {},
   "outputs": [
    {
     "name": "stdout",
     "output_type": "stream",
     "text": [
      "Distancia:  3.1622776601683795\n"
     ]
    }
   ],
   "source": [
    "punto1=(0,0)\n",
    "punto2=(1,3)\n",
    "distancia=calcular_distancia(punto1,punto2)\n",
    "print(\"Distancia: \", distancia)"
   ]
  },
  {
   "cell_type": "code",
   "execution_count": 58,
   "id": "890f47df",
   "metadata": {},
   "outputs": [],
   "source": [
    "def calcular_distancia_total(lista):\n",
    "    distancia_total = 0\n",
    "    for i in range(len(lista)-1):\n",
    "        distancia_total += calcular_distancia(lista[i],lista[i+1])\n",
    "    return distancia_total\n",
    "   \n",
    "    "
   ]
  },
  {
   "cell_type": "code",
   "execution_count": 59,
   "id": "4eae8671",
   "metadata": {},
   "outputs": [
    {
     "name": "stdout",
     "output_type": "stream",
     "text": [
      "Distancia total:  8.81913190966076\n"
     ]
    }
   ],
   "source": [
    "ruta=[(0,0),(1,3),(3,5),(5,3)]\n",
    "distancia_total = calcular_distancia_total(ruta)\n",
    "print(\"Distancia total: \", distancia_total)"
   ]
  },
  {
   "cell_type": "code",
   "execution_count": 60,
   "id": "46671b9e",
   "metadata": {},
   "outputs": [
    {
     "name": "stdout",
     "output_type": "stream",
     "text": [
      "Distancia total:  12.782484645209152\n"
     ]
    }
   ],
   "source": [
    "ruta=[(0,0),(3,5),(1,3),(5,2)]\n",
    "distancia_total = calcular_distancia_total(ruta)\n",
    "print(\"Distancia total: \", distancia_total)"
   ]
  },
  {
   "cell_type": "code",
   "execution_count": 61,
   "id": "b13fd2fe",
   "metadata": {},
   "outputs": [
    {
     "name": "stdout",
     "output_type": "stream",
     "text": [
      "Distancia total:  13.559608795926952\n"
     ]
    }
   ],
   "source": [
    "ruta=[(0,0),(3,5),(5,2),(1,3)]\n",
    "distancia_total = calcular_distancia_total(ruta)\n",
    "print(\"Distancia total: \", distancia_total)"
   ]
  },
  {
   "cell_type": "code",
   "execution_count": 63,
   "id": "c7988abe",
   "metadata": {},
   "outputs": [],
   "source": [
    "def optimizacion_ruta(rutas):\n",
    "    distancia_rutas = zeros((len(rutas)))\n",
    "    for i in range(len(rutas)):\n",
    "        hola = calcular_distancia_total(rutas[i])\n",
    "        distancia_rutas[i] = hola\n",
    "    minimo = np.min(distancia_rutas)\n",
    "    posicion = np.where(distancia_rutas == minimo)[0][0]\n",
    "    print(\"Ruta optimizada: \",rutas[posicion])"
   ]
  },
  {
   "cell_type": "code",
   "execution_count": 64,
   "id": "2ba977d1",
   "metadata": {},
   "outputs": [
    {
     "name": "stdout",
     "output_type": "stream",
     "text": [
      "Ruta optimizada:  [(0, 0), (1, 3), (3, 5), (5, 2)]\n"
     ]
    }
   ],
   "source": [
    "rutas=[[(0,0),(1,3),(3,5),(5,2)],\n",
    "       [(0,0),(3,5),(1,3),(5,2)],\n",
    "       [(0,0),(3,5),(5,2),(1,3)]]\n",
    "optimizacion_ruta(rutas)\n"
   ]
  },
  {
   "cell_type": "code",
   "execution_count": 1,
   "id": "e5ddf062",
   "metadata": {},
   "outputs": [],
   "source": [
    "class Libro(): \n",
    "    def __init__(self, titulo, autor): \n",
    "        self.titulo = titulo \n",
    "        self.autor = autor \n",
    "        self.disponibilidad = \"Si\" \n",
    "    def obtener_titulo(self):\n",
    "        return self.titulo\n",
    "    def obtener_autor(self):\n",
    "        return self.autor\n",
    "    def esta_disponible(self):\n",
    "        return self.disponibilidad\n",
    "    \n",
    "    def libro_prestado(self):\n",
    "        if(self.disponibilidad == \"Si\"):\n",
    "            print(\"El libro {} de autor {} ha sido prestado\".format(self.titulo,self.autor))\n",
    "            self.disponibilidad = \"No\"\n",
    "        else:\n",
    "            print(\"El libro {} de autor {} no está disponible\".format(self.titulo,self.autor))\n",
    "    \n",
    "    def devolver_libro(self):\n",
    "        if(self.disponibilidad == \"No\"):\n",
    "            print(\"El libro {} de autor {} ha sido devuelto\".format(self.titulo,self.autor))\n",
    "            self.disponibilidad = \"Si\"\n",
    "        else:\n",
    "            print(\"Error,El libro {} de autor {} ya está disponible\".format(self.titulo,self.autor))"
   ]
  },
  {
   "cell_type": "code",
   "execution_count": 7,
   "id": "6639eecb",
   "metadata": {},
   "outputs": [],
   "source": [
    "libro1 = Libro(\"Veinte poemas de amor y una canción desesperada\",\"Pablo Neruda\")\n",
    "libro2 = Libro(\"Don Quijote de la Mancha\",\"Miguel de Cervantes\")\n",
    "\n"
   ]
  },
  {
   "cell_type": "code",
   "execution_count": 8,
   "id": "27f3a181",
   "metadata": {},
   "outputs": [
    {
     "name": "stdout",
     "output_type": "stream",
     "text": [
      "Libro 1: Veinte poemas de amor y una canción desesperada de autor Pablo Neruda \n",
      "Disponibilidad: Si\n",
      "Libro 2: Don Quijote de la Mancha de autor Miguel de Cervantes \n",
      "Disponibilidad: Si \n"
     ]
    }
   ],
   "source": [
    "print(\"Libro 1: {} de autor {} \".format(libro1.obtener_titulo(),libro1.obtener_autor()))\n",
    "print(\"Disponibilidad: {}\".format(libro1.esta_disponible()))\n",
    "print(\"Libro 2: {} de autor {} \".format(libro2.obtener_titulo(),libro2.obtener_autor()))\n",
    "print(\"Disponibilidad: {} \".format(libro2.esta_disponible()))\n"
   ]
  },
  {
   "cell_type": "code",
   "execution_count": 9,
   "id": "41b92282",
   "metadata": {},
   "outputs": [
    {
     "name": "stdout",
     "output_type": "stream",
     "text": [
      "El libro Veinte poemas de amor y una canción desesperada de autor Pablo Neruda ha sido prestado\n",
      "Libro 1: Veinte poemas de amor y una canción desesperada de autor Pablo Neruda \n",
      "Disponibilidad: No\n"
     ]
    }
   ],
   "source": [
    "libro1.libro_prestado()\n",
    "print(\"Libro 1: {} de autor {} \".format(libro1.obtener_titulo(),libro1.obtener_autor()))\n",
    "print(\"Disponibilidad: {}\".format(libro1.esta_disponible()))"
   ]
  },
  {
   "cell_type": "code",
   "execution_count": 10,
   "id": "3814a3e4",
   "metadata": {},
   "outputs": [
    {
     "name": "stdout",
     "output_type": "stream",
     "text": [
      "El libro Veinte poemas de amor y una canción desesperada de autor Pablo Neruda no está disponible\n",
      "Libro 1: Veinte poemas de amor y una canción desesperada de autor Pablo Neruda \n",
      "Disponibilidad: No\n"
     ]
    }
   ],
   "source": [
    "libro1.libro_prestado()\n",
    "print(\"Libro 1: {} de autor {} \".format(libro1.obtener_titulo(),libro1.obtener_autor()))\n",
    "print(\"Disponibilidad: {}\".format(libro1.esta_disponible()))"
   ]
  },
  {
   "cell_type": "code",
   "execution_count": 11,
   "id": "e7062b77",
   "metadata": {},
   "outputs": [
    {
     "name": "stdout",
     "output_type": "stream",
     "text": [
      "El libro Veinte poemas de amor y una canción desesperada de autor Pablo Neruda ha sido devuelto\n",
      "Libro 1: Veinte poemas de amor y una canción desesperada de autor Pablo Neruda \n",
      "Disponibilidad: Si\n"
     ]
    }
   ],
   "source": [
    "libro1.devolver_libro()\n",
    "print(\"Libro 1: {} de autor {} \".format(libro1.obtener_titulo(),libro1.obtener_autor()))\n",
    "print(\"Disponibilidad: {}\".format(libro1.esta_disponible()))"
   ]
  },
  {
   "cell_type": "code",
   "execution_count": 12,
   "id": "d43da485",
   "metadata": {},
   "outputs": [
    {
     "name": "stdout",
     "output_type": "stream",
     "text": [
      "Error,El libro Don Quijote de la Mancha de autor Miguel de Cervantes ya está disponible\n",
      "Libro 2: Don Quijote de la Mancha de autor Miguel de Cervantes \n",
      "Disponibilidad: Si\n"
     ]
    }
   ],
   "source": [
    "libro2.devolver_libro()\n",
    "print(\"Libro 2: {} de autor {} \".format(libro2.obtener_titulo(),libro2.obtener_autor()))\n",
    "print(\"Disponibilidad: {}\".format(libro2.esta_disponible()))"
   ]
  }
 ],
 "metadata": {
  "kernelspec": {
   "display_name": "Python 3 (ipykernel)",
   "language": "python",
   "name": "python3"
  },
  "language_info": {
   "codemirror_mode": {
    "name": "ipython",
    "version": 3
   },
   "file_extension": ".py",
   "mimetype": "text/x-python",
   "name": "python",
   "nbconvert_exporter": "python",
   "pygments_lexer": "ipython3",
   "version": "3.10.9"
  }
 },
 "nbformat": 4,
 "nbformat_minor": 5
}
